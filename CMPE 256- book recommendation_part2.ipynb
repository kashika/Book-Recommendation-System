{
 "cells": [
  {
   "cell_type": "markdown",
   "metadata": {},
   "source": [
    "# Book Recommendation System -part 2"
   ]
  },
  {
   "cell_type": "code",
   "execution_count": 1,
   "metadata": {},
   "outputs": [],
   "source": [
    "#import relevant datasets to perform recommendation system\n",
    "import pandas as pd\n",
    "import numpy as np\n",
    "import matplotlib.pyplot as plt\n",
    "%matplotlib inline"
   ]
  },
  {
   "cell_type": "code",
   "execution_count": 2,
   "metadata": {},
   "outputs": [],
   "source": [
    "# read dataset into pandas dataframe\n",
    "df = pd.read_csv('train.csv/train.csv', delimiter= '\\t')"
   ]
  },
  {
   "cell_type": "code",
   "execution_count": 3,
   "metadata": {},
   "outputs": [
    {
     "data": {
      "text/html": [
       "<div>\n",
       "<style scoped>\n",
       "    .dataframe tbody tr th:only-of-type {\n",
       "        vertical-align: middle;\n",
       "    }\n",
       "\n",
       "    .dataframe tbody tr th {\n",
       "        vertical-align: top;\n",
       "    }\n",
       "\n",
       "    .dataframe thead th {\n",
       "        text-align: right;\n",
       "    }\n",
       "</style>\n",
       "<table border=\"1\" class=\"dataframe\">\n",
       "  <thead>\n",
       "    <tr style=\"text-align: right;\">\n",
       "      <th></th>\n",
       "      <th>user_id</th>\n",
       "      <th>book_id</th>\n",
       "      <th>rating</th>\n",
       "    </tr>\n",
       "  </thead>\n",
       "  <tbody>\n",
       "    <tr>\n",
       "      <th>0</th>\n",
       "      <td>12726</td>\n",
       "      <td>7784</td>\n",
       "      <td>5</td>\n",
       "    </tr>\n",
       "    <tr>\n",
       "      <th>1</th>\n",
       "      <td>23770</td>\n",
       "      <td>104293</td>\n",
       "      <td>4</td>\n",
       "    </tr>\n",
       "    <tr>\n",
       "      <th>2</th>\n",
       "      <td>15669</td>\n",
       "      <td>29291</td>\n",
       "      <td>4</td>\n",
       "    </tr>\n",
       "    <tr>\n",
       "      <th>3</th>\n",
       "      <td>649</td>\n",
       "      <td>420180</td>\n",
       "      <td>0</td>\n",
       "    </tr>\n",
       "    <tr>\n",
       "      <th>4</th>\n",
       "      <td>10980</td>\n",
       "      <td>7089179</td>\n",
       "      <td>0</td>\n",
       "    </tr>\n",
       "    <tr>\n",
       "      <th>5</th>\n",
       "      <td>23252</td>\n",
       "      <td>30119</td>\n",
       "      <td>4</td>\n",
       "    </tr>\n",
       "    <tr>\n",
       "      <th>6</th>\n",
       "      <td>30950</td>\n",
       "      <td>27414384</td>\n",
       "      <td>0</td>\n",
       "    </tr>\n",
       "    <tr>\n",
       "      <th>7</th>\n",
       "      <td>28472</td>\n",
       "      <td>34268</td>\n",
       "      <td>5</td>\n",
       "    </tr>\n",
       "    <tr>\n",
       "      <th>8</th>\n",
       "      <td>20976</td>\n",
       "      <td>231850</td>\n",
       "      <td>0</td>\n",
       "    </tr>\n",
       "    <tr>\n",
       "      <th>9</th>\n",
       "      <td>2259</td>\n",
       "      <td>718473</td>\n",
       "      <td>0</td>\n",
       "    </tr>\n",
       "  </tbody>\n",
       "</table>\n",
       "</div>"
      ],
      "text/plain": [
       "   user_id   book_id  rating\n",
       "0    12726      7784       5\n",
       "1    23770    104293       4\n",
       "2    15669     29291       4\n",
       "3      649    420180       0\n",
       "4    10980   7089179       0\n",
       "5    23252     30119       4\n",
       "6    30950  27414384       0\n",
       "7    28472     34268       5\n",
       "8    20976    231850       0\n",
       "9     2259    718473       0"
      ]
     },
     "execution_count": 3,
     "metadata": {},
     "output_type": "execute_result"
    }
   ],
   "source": [
    "df.head(10)"
   ]
  },
  {
   "cell_type": "code",
   "execution_count": 4,
   "metadata": {},
   "outputs": [
    {
     "data": {
      "text/plain": [
       "(700000, 3)"
      ]
     },
     "execution_count": 4,
     "metadata": {},
     "output_type": "execute_result"
    }
   ],
   "source": [
    "df.shape"
   ]
  },
  {
   "cell_type": "code",
   "execution_count": 7,
   "metadata": {},
   "outputs": [],
   "source": [
    "#import surprise library algorithms \n",
    "from surprise import KNNBasic, BaselineOnly,Dataset, Reader"
   ]
  },
  {
   "cell_type": "code",
   "execution_count": 14,
   "metadata": {},
   "outputs": [],
   "source": [
    "# convert data into reader class of surprise library to parse the ratings properly\n",
    "reader = Reader(rating_scale=(0,5))  \n",
    "data=Dataset.load_from_df(df,reader)"
   ]
  },
  {
   "cell_type": "code",
   "execution_count": 16,
   "metadata": {},
   "outputs": [],
   "source": [
    "from surprise.mo#import test train split to randomly split the data. I have used split size of 0.25\n",
    "from surprise.model_selection import train_test_split\n",
    "trainset, testset = train_test_split(data, test_size=.25)del_selection import train_test_split\n",
    "trainset, testset = train_test_split(data, test_size=.25)"
   ]
  },
  {
   "cell_type": "code",
   "execution_count": 20,
   "metadata": {},
   "outputs": [
    {
     "name": "stdout",
     "output_type": "stream",
     "text": [
      "1.557814968387207\n",
      "{'lr_all': 0.005, 'n_epochs': 60, 'reg_all': 0.1}\n"
     ]
    }
   ],
   "source": [
    "#Algorithm 6 - GridSearchCV -parameter tuning, using 5 fold cross validation\n",
    "from surprise.model_selection import GridSearchCV\n",
    "from surprise import SVD\n",
    "param_grid = {'n_epochs': [40,50,60], 'lr_all': [0.005, 0.05],\n",
    "              'reg_all': [0.1,0.5, 0.01]}\n",
    "#use 5 fold cross validation\n",
    "gs_algo = GridSearchCV(SVD, param_grid, measures=['rmse'], cv=5, refit = True)\n",
    "gs_algo.fit(data)\n",
    "#predict RMSE for validation data\n",
    "print(gs_algo.best_score['rmse'])\n",
    "print(gs_algo.best_params['rmse'])"
   ]
  },
  {
   "cell_type": "code",
   "execution_count": 21,
   "metadata": {},
   "outputs": [
    {
     "data": {
      "text/html": [
       "<div>\n",
       "<style scoped>\n",
       "    .dataframe tbody tr th:only-of-type {\n",
       "        vertical-align: middle;\n",
       "    }\n",
       "\n",
       "    .dataframe tbody tr th {\n",
       "        vertical-align: top;\n",
       "    }\n",
       "\n",
       "    .dataframe thead th {\n",
       "        text-align: right;\n",
       "    }\n",
       "</style>\n",
       "<table border=\"1\" class=\"dataframe\">\n",
       "  <thead>\n",
       "    <tr style=\"text-align: right;\">\n",
       "      <th></th>\n",
       "      <th>user_id</th>\n",
       "      <th>book_id</th>\n",
       "    </tr>\n",
       "  </thead>\n",
       "  <tbody>\n",
       "    <tr>\n",
       "      <th>0</th>\n",
       "      <td>20989</td>\n",
       "      <td>1832332</td>\n",
       "    </tr>\n",
       "    <tr>\n",
       "      <th>1</th>\n",
       "      <td>37040</td>\n",
       "      <td>191139</td>\n",
       "    </tr>\n",
       "    <tr>\n",
       "      <th>2</th>\n",
       "      <td>36167</td>\n",
       "      <td>28449164</td>\n",
       "    </tr>\n",
       "    <tr>\n",
       "      <th>3</th>\n",
       "      <td>9398</td>\n",
       "      <td>24693869</td>\n",
       "    </tr>\n",
       "    <tr>\n",
       "      <th>4</th>\n",
       "      <td>29848</td>\n",
       "      <td>8127</td>\n",
       "    </tr>\n",
       "  </tbody>\n",
       "</table>\n",
       "</div>"
      ],
      "text/plain": [
       "   user_id   book_id\n",
       "0    20989   1832332\n",
       "1    37040    191139\n",
       "2    36167  28449164\n",
       "3     9398  24693869\n",
       "4    29848      8127"
      ]
     },
     "execution_count": 21,
     "metadata": {},
     "output_type": "execute_result"
    }
   ],
   "source": [
    "#import test data as pandas dataframe\n",
    "test = pd.read_csv('test.csv/test.csv', delimiter='\\t')\n",
    "test.head(5)"
   ]
  },
  {
   "cell_type": "code",
   "execution_count": 22,
   "metadata": {},
   "outputs": [],
   "source": [
    "# MAke predictions for test data and sav in file\n",
    "res=[]\n",
    "res.append('user_id-book_id,rating')\n",
    "for i in range(len(test)):\n",
    "    pred = gs_algo.predict(test['user_id'][i], test['book_id'][i])\n",
    "    res.append(str(test['user_id'][i])+'-'+str(test['book_id'][i])+','+str(int(round(pred[3]))))\n",
    "np.savetxt('pred_gs_60', res,fmt='%s',newline='\\n')"
   ]
  },
  {
   "cell_type": "code",
   "execution_count": 23,
   "metadata": {},
   "outputs": [
    {
     "name": "stdout",
     "output_type": "stream",
     "text": [
      "1.5473713195503291\n",
      "{'lr_all': 0.005, 'n_epochs': 60, 'reg_all': 0.1}\n"
     ]
    }
   ],
   "source": [
    "#More fine tuning of parameters, using 10 fold cross validation\n",
    "param_grid = {'n_epochs': [60], 'lr_all': [0.005],\n",
    "              'reg_all': [0.1]}\n",
    "gs_algo = GridSearchCV(SVD, param_grid, measures=['rmse'], cv=10, refit = True)\n",
    "gs_algo.fit(data)\n",
    "print(gs_algo.best_score['rmse'])\n",
    "print(gs_algo.best_params['rmse'])"
   ]
  },
  {
   "cell_type": "code",
   "execution_count": 26,
   "metadata": {},
   "outputs": [],
   "source": [
    "# Make predictions for test data and save in file\n",
    "res1=[]\n",
    "res1.append('user_id-book_id,rating')\n",
    "for i in range(len(test)):\n",
    "    pred1 = gs_algo.predict(test['user_id'][i], test['book_id'][i])\n",
    "    res1.append(str(test['user_id'][i])+'-'+str(test['book_id'][i])+','+str(int(round(pred1[3]))))\n",
    "np.savetxt('pred_gs_cv10', res1,fmt='%s',newline='\\n')"
   ]
  },
  {
   "cell_type": "code",
   "execution_count": 27,
   "metadata": {},
   "outputs": [
    {
     "name": "stdout",
     "output_type": "stream",
     "text": [
      "1.5469738803204738\n",
      "{'lr_all': 0.005, 'n_epochs': 50, 'reg_all': 0.1}\n"
     ]
    }
   ],
   "source": [
    "#more fine tuning of parameters, using 10 fold cross validation\n",
    "param_grid = {'n_epochs': [50], 'lr_all': [0.005],\n",
    "              'reg_all': [0.1]}\n",
    "gs1_algo = GridSearchCV(SVD, param_grid, measures=['rmse'], cv=10, refit = True)\n",
    "gs1_algo.fit(data)\n",
    "print(gs1_algo.best_score['rmse'])\n",
    "print(gs1_algo.best_params['rmse'])"
   ]
  },
  {
   "cell_type": "code",
   "execution_count": null,
   "metadata": {},
   "outputs": [],
   "source": [
    "#Make predictions and save to file\n",
    "res2=[]\n",
    "res2.append('user_id-book_id,rating')\n",
    "for i in range(len(test)):\n",
    "    pred2 = gs1_algo.predict(test['user_id'][i], test['book_id'][i])\n",
    "    res2.append(str(test['user_id'][i])+'-'+str(test['book_id'][i])+','+str(int(round(pred2[3]))))\n",
    "np.savetxt('pred_gs_cv10', res2,fmt='%s',newline='\\n')"
   ]
  },
  {
   "cell_type": "code",
   "execution_count": 29,
   "metadata": {},
   "outputs": [
    {
     "name": "stdout",
     "output_type": "stream",
     "text": [
      "1.5514734969581478\n",
      "{'lr_all': 0.005, 'n_epochs': 50, 'reg_all': 0.1}\n"
     ]
    }
   ],
   "source": [
    "#More fine tuning, using 7 fold cross validation\n",
    "param_grid = {'n_epochs': [50], 'lr_all': [0.005],\n",
    "              'reg_all': [0.1]}\n",
    "gs2_algo = GridSearchCV(SVD, param_grid, measures=['rmse'], cv=7, refit = True)\n",
    "gs2_algo.fit(data)\n",
    "print(gs2_algo.best_score['rmse'])\n",
    "print(gs2_algo.best_params['rmse'])"
   ]
  },
  {
   "cell_type": "code",
   "execution_count": 30,
   "metadata": {},
   "outputs": [],
   "source": [
    "#Make predictions and save to file\n",
    "res3=[]\n",
    "res3.append('user_id-book_id,rating')\n",
    "for i in range(len(test)):\n",
    "    pred3 = gs2_algo.predict(test['user_id'][i], test['book_id'][i])\n",
    "    res3.append(str(test['user_id'][i])+'-'+str(test['book_id'][i])+','+str(int(round(pred3[3]))))\n",
    "np.savetxt('pred_gs_cv7', res3,fmt='%s',newline='\\n')"
   ]
  },
  {
   "cell_type": "code",
   "execution_count": 31,
   "metadata": {},
   "outputs": [
    {
     "name": "stdout",
     "output_type": "stream",
     "text": [
      "1.5496330271897638\n",
      "{'lr_all': 0.005, 'n_epochs': 60, 'reg_all': 0.1}\n"
     ]
    }
   ],
   "source": [
    "#More fine tuning using 8 fold cross validation\n",
    "param_grid = {'n_epochs': [60], 'lr_all': [0.005],\n",
    "              'reg_all': [0.1]}\n",
    "gs3_algo = GridSearchCV(SVD, param_grid, measures=['rmse'], cv=8, refit = True)\n",
    "gs3_algo.fit(data)\n",
    "print(gs3_algo.best_score['rmse'])\n",
    "print(gs3_algo.best_params['rmse'])"
   ]
  },
  {
   "cell_type": "code",
   "execution_count": 32,
   "metadata": {},
   "outputs": [],
   "source": [
    "#Make predictions and save to file\n",
    "res4=[]\n",
    "res4.append('user_id-book_id,rating')\n",
    "for i in range(len(test)):\n",
    "    pred4 = gs3_algo.predict(test['user_id'][i], test['book_id'][i])\n",
    "    res4.append(str(test['user_id'][i])+'-'+str(test['book_id'][i])+','+str(int(round(pred4[3]))))\n",
    "np.savetxt('pred_gs_2', res4,fmt='%s',newline='\\n')"
   ]
  },
  {
   "cell_type": "code",
   "execution_count": 37,
   "metadata": {},
   "outputs": [],
   "source": [
    "#Algorithm 7 - NMF\n",
    "#import libraries\n",
    "from surprise import NMF, evaluate\n",
    "nmf_algo = NMF()\n",
    "#split data into 5 folds\n",
    "data.split(n_folds=5)\n"
   ]
  },
  {
   "cell_type": "code",
   "execution_count": 38,
   "metadata": {},
   "outputs": [
    {
     "name": "stderr",
     "output_type": "stream",
     "text": [
      "C:\\Users\\kashi\\Anaconda3\\lib\\site-packages\\surprise\\evaluate.py:66: UserWarning: The evaluate() method is deprecated. Please use model_selection.cross_validate() instead.\n",
      "  'model_selection.cross_validate() instead.', UserWarning)\n",
      "C:\\Users\\kashi\\Anaconda3\\lib\\site-packages\\surprise\\dataset.py:193: UserWarning: Using data.split() or using load_from_folds() without using a CV iterator is now deprecated. \n",
      "  UserWarning)\n"
     ]
    },
    {
     "name": "stdout",
     "output_type": "stream",
     "text": [
      "Evaluating RMSE of algorithm NMF.\n",
      "\n",
      "------------\n",
      "Fold 1\n",
      "RMSE: 1.7487\n",
      "------------\n",
      "Fold 2\n",
      "RMSE: 1.7400\n",
      "------------\n",
      "Fold 3\n",
      "RMSE: 1.7465\n",
      "------------\n",
      "Fold 4\n",
      "RMSE: 1.7522\n",
      "------------\n",
      "Fold 5\n",
      "RMSE: 1.7494\n",
      "------------\n",
      "------------\n",
      "Mean RMSE: 1.7473\n",
      "------------\n",
      "------------\n"
     ]
    },
    {
     "data": {
      "text/plain": [
       "CaseInsensitiveDefaultDict(list,\n",
       "                           {'rmse': [1.748704805587569,\n",
       "                             1.7399722441485956,\n",
       "                             1.7464998505662706,\n",
       "                             1.7521828400590813,\n",
       "                             1.7493552538690902]})"
      ]
     },
     "execution_count": 38,
     "metadata": {},
     "output_type": "execute_result"
    }
   ],
   "source": [
    "#Perform evaluation in validation data using RMSE\n",
    "evaluate(nmf_algo, data, measures=['RMSE'])"
   ]
  },
  {
   "cell_type": "code",
   "execution_count": null,
   "metadata": {},
   "outputs": [],
   "source": []
  },
  {
   "cell_type": "code",
   "execution_count": null,
   "metadata": {},
   "outputs": [],
   "source": []
  }
 ],
 "metadata": {
  "kernelspec": {
   "display_name": "Python 3",
   "language": "python",
   "name": "python3"
  },
  "language_info": {
   "codemirror_mode": {
    "name": "ipython",
    "version": 3
   },
   "file_extension": ".py",
   "mimetype": "text/x-python",
   "name": "python",
   "nbconvert_exporter": "python",
   "pygments_lexer": "ipython3",
   "version": "3.5.0"
  }
 },
 "nbformat": 4,
 "nbformat_minor": 2
}
