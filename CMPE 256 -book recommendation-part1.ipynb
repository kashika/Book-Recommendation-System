{
 "cells": [
  {
   "cell_type": "markdown",
   "metadata": {},
   "source": [
    "# The objective of this assignment is to predict the rating that a user will give to a book given their past book rating using recommender system algorithms. "
   ]
  },
  {
   "cell_type": "code",
   "execution_count": 41,
   "metadata": {},
   "outputs": [],
   "source": [
    "#import relevant datasets to perform recommendation system\n",
    "import pandas as pd\n",
    "import numpy as np\n",
    "import matplotlib.pyplot as plt\n",
    "%matplotlib inline\n",
    "from surprise import SVD"
   ]
  },
  {
   "cell_type": "code",
   "execution_count": 2,
   "metadata": {},
   "outputs": [],
   "source": [
    "# read dataset into pandas dataframe\n",
    "df = pd.read_csv('train.csv/train.csv', delimiter= '\\t')"
   ]
  },
  {
   "cell_type": "code",
   "execution_count": 3,
   "metadata": {},
   "outputs": [
    {
     "data": {
      "text/html": [
       "<div>\n",
       "<style scoped>\n",
       "    .dataframe tbody tr th:only-of-type {\n",
       "        vertical-align: middle;\n",
       "    }\n",
       "\n",
       "    .dataframe tbody tr th {\n",
       "        vertical-align: top;\n",
       "    }\n",
       "\n",
       "    .dataframe thead th {\n",
       "        text-align: right;\n",
       "    }\n",
       "</style>\n",
       "<table border=\"1\" class=\"dataframe\">\n",
       "  <thead>\n",
       "    <tr style=\"text-align: right;\">\n",
       "      <th></th>\n",
       "      <th>user_id</th>\n",
       "      <th>book_id</th>\n",
       "      <th>rating</th>\n",
       "    </tr>\n",
       "  </thead>\n",
       "  <tbody>\n",
       "    <tr>\n",
       "      <th>0</th>\n",
       "      <td>12726</td>\n",
       "      <td>7784</td>\n",
       "      <td>5</td>\n",
       "    </tr>\n",
       "    <tr>\n",
       "      <th>1</th>\n",
       "      <td>23770</td>\n",
       "      <td>104293</td>\n",
       "      <td>4</td>\n",
       "    </tr>\n",
       "    <tr>\n",
       "      <th>2</th>\n",
       "      <td>15669</td>\n",
       "      <td>29291</td>\n",
       "      <td>4</td>\n",
       "    </tr>\n",
       "    <tr>\n",
       "      <th>3</th>\n",
       "      <td>649</td>\n",
       "      <td>420180</td>\n",
       "      <td>0</td>\n",
       "    </tr>\n",
       "    <tr>\n",
       "      <th>4</th>\n",
       "      <td>10980</td>\n",
       "      <td>7089179</td>\n",
       "      <td>0</td>\n",
       "    </tr>\n",
       "    <tr>\n",
       "      <th>5</th>\n",
       "      <td>23252</td>\n",
       "      <td>30119</td>\n",
       "      <td>4</td>\n",
       "    </tr>\n",
       "    <tr>\n",
       "      <th>6</th>\n",
       "      <td>30950</td>\n",
       "      <td>27414384</td>\n",
       "      <td>0</td>\n",
       "    </tr>\n",
       "    <tr>\n",
       "      <th>7</th>\n",
       "      <td>28472</td>\n",
       "      <td>34268</td>\n",
       "      <td>5</td>\n",
       "    </tr>\n",
       "    <tr>\n",
       "      <th>8</th>\n",
       "      <td>20976</td>\n",
       "      <td>231850</td>\n",
       "      <td>0</td>\n",
       "    </tr>\n",
       "    <tr>\n",
       "      <th>9</th>\n",
       "      <td>2259</td>\n",
       "      <td>718473</td>\n",
       "      <td>0</td>\n",
       "    </tr>\n",
       "  </tbody>\n",
       "</table>\n",
       "</div>"
      ],
      "text/plain": [
       "   user_id   book_id  rating\n",
       "0    12726      7784       5\n",
       "1    23770    104293       4\n",
       "2    15669     29291       4\n",
       "3      649    420180       0\n",
       "4    10980   7089179       0\n",
       "5    23252     30119       4\n",
       "6    30950  27414384       0\n",
       "7    28472     34268       5\n",
       "8    20976    231850       0\n",
       "9     2259    718473       0"
      ]
     },
     "execution_count": 3,
     "metadata": {},
     "output_type": "execute_result"
    }
   ],
   "source": [
    "df.head(10)"
   ]
  },
  {
   "cell_type": "code",
   "execution_count": 4,
   "metadata": {},
   "outputs": [
    {
     "data": {
      "text/plain": [
       "(700000, 3)"
      ]
     },
     "execution_count": 4,
     "metadata": {},
     "output_type": "execute_result"
    }
   ],
   "source": [
    "df.shape"
   ]
  },
  {
   "cell_type": "code",
   "execution_count": 5,
   "metadata": {},
   "outputs": [
    {
     "data": {
      "text/plain": [
       "Text(0,0.5,'Count')"
      ]
     },
     "execution_count": 5,
     "metadata": {},
     "output_type": "execute_result"
    },
    {
     "data": {
      "image/png": "[encoded data removed]",
      "text/plain": [
       "<Figure size 432x288 with 1 Axes>"
      ]
     },
     "metadata": {},
     "output_type": "display_data"
    }
   ],
   "source": [
    "#plot a histogram to check how the ratings are distriburted\n",
    "plt.rc(\"font\",size =15)\n",
    "df.rating.value_counts(sort =False).plot(kind = 'bar')\n",
    "plt.title('Distribution of Book Ratings')\n",
    "plt.xlabel('Rating')\n",
    "plt.ylabel('Count')"
   ]
  },
  {
   "cell_type": "code",
   "execution_count": 6,
   "metadata": {},
   "outputs": [
    {
     "data": {
      "text/html": [
       "<div>\n",
       "<style scoped>\n",
       "    .dataframe tbody tr th:only-of-type {\n",
       "        vertical-align: middle;\n",
       "    }\n",
       "\n",
       "    .dataframe tbody tr th {\n",
       "        vertical-align: top;\n",
       "    }\n",
       "\n",
       "    .dataframe thead th {\n",
       "        text-align: right;\n",
       "    }\n",
       "</style>\n",
       "<table border=\"1\" class=\"dataframe\">\n",
       "  <thead>\n",
       "    <tr style=\"text-align: right;\">\n",
       "      <th></th>\n",
       "      <th>rating</th>\n",
       "    </tr>\n",
       "    <tr>\n",
       "      <th>book_id</th>\n",
       "      <th></th>\n",
       "    </tr>\n",
       "  </thead>\n",
       "  <tbody>\n",
       "    <tr>\n",
       "      <th>5</th>\n",
       "      <td>11213</td>\n",
       "    </tr>\n",
       "    <tr>\n",
       "      <th>3636</th>\n",
       "      <td>7885</td>\n",
       "    </tr>\n",
       "    <tr>\n",
       "      <th>24178</th>\n",
       "      <td>5252</td>\n",
       "    </tr>\n",
       "    <tr>\n",
       "      <th>157993</th>\n",
       "      <td>5127</td>\n",
       "    </tr>\n",
       "    <tr>\n",
       "      <th>2998</th>\n",
       "      <td>4926</td>\n",
       "    </tr>\n",
       "    <tr>\n",
       "      <th>30119</th>\n",
       "      <td>4347</td>\n",
       "    </tr>\n",
       "    <tr>\n",
       "      <th>370493</th>\n",
       "      <td>4215</td>\n",
       "    </tr>\n",
       "    <tr>\n",
       "      <th>8127</th>\n",
       "      <td>4139</td>\n",
       "    </tr>\n",
       "    <tr>\n",
       "      <th>38709</th>\n",
       "      <td>3546</td>\n",
       "    </tr>\n",
       "    <tr>\n",
       "      <th>19543</th>\n",
       "      <td>3412</td>\n",
       "    </tr>\n",
       "  </tbody>\n",
       "</table>\n",
       "</div>"
      ],
      "text/plain": [
       "         rating\n",
       "book_id        \n",
       "5         11213\n",
       "3636       7885\n",
       "24178      5252\n",
       "157993     5127\n",
       "2998       4926\n",
       "30119      4347\n",
       "370493     4215\n",
       "8127       4139\n",
       "38709      3546\n",
       "19543      3412"
      ]
     },
     "execution_count": 6,
     "metadata": {},
     "output_type": "execute_result"
    }
   ],
   "source": [
    "#check how ratings are distributed based on count\n",
    "rating_based_on_count = pd.DataFrame(df.groupby('book_id')['rating'].count())\n",
    "rating_based_on_count.sort_values('rating', ascending= False).head(10)"
   ]
  },
  {
   "cell_type": "code",
   "execution_count": 7,
   "metadata": {},
   "outputs": [],
   "source": [
    "#import surprise library algorithms \n",
    "from surprise import KNNBasic, BaselineOnly,Dataset, Reader"
   ]
  },
  {
   "cell_type": "code",
   "execution_count": 96,
   "metadata": {},
   "outputs": [],
   "source": [
    "# convert data into reader class of surprise library to parse the ratings properly\n",
    "reader = Reader(rating_scale=(0,5))  \n",
    "data=Dataset.load_from_df(df,reader)"
   ]
  },
  {
   "cell_type": "code",
   "execution_count": 98,
   "metadata": {},
   "outputs": [],
   "source": [
    "#import test train split to randomly split the data. I have used split size of 0.25\n",
    "from surprise.model_selection import train_test_split\n",
    "trainset, testset = train_test_split(data, test_size=.25)"
   ]
  },
  {
   "cell_type": "code",
   "execution_count": 99,
   "metadata": {},
   "outputs": [
    {
     "name": "stdout",
     "output_type": "stream",
     "text": [
      "RMSE: 1.6081\n"
     ]
    },
    {
     "data": {
      "text/plain": [
       "1.6081413556288453"
      ]
     },
     "execution_count": 99,
     "metadata": {},
     "output_type": "execute_result"
    }
   ],
   "source": [
    "#Algorithm 1 - SVD. Fit the training data and check RMSE on validation data\n",
    "svd_algo = SVD()\n",
    "svd_algo.fit(trainset)\n",
    "predictions_svd = svd_algo.test(testset)\n",
    "accuracy.rmse(predictions_svd)"
   ]
  },
  {
   "cell_type": "code",
   "execution_count": 105,
   "metadata": {},
   "outputs": [
    {
     "data": {
      "text/html": [
       "<div>\n",
       "<style scoped>\n",
       "    .dataframe tbody tr th:only-of-type {\n",
       "        vertical-align: middle;\n",
       "    }\n",
       "\n",
       "    .dataframe tbody tr th {\n",
       "        vertical-align: top;\n",
       "    }\n",
       "\n",
       "    .dataframe thead th {\n",
       "        text-align: right;\n",
       "    }\n",
       "</style>\n",
       "<table border=\"1\" class=\"dataframe\">\n",
       "  <thead>\n",
       "    <tr style=\"text-align: right;\">\n",
       "      <th></th>\n",
       "      <th>user_id</th>\n",
       "      <th>book_id</th>\n",
       "    </tr>\n",
       "  </thead>\n",
       "  <tbody>\n",
       "    <tr>\n",
       "      <th>0</th>\n",
       "      <td>20989</td>\n",
       "      <td>1832332</td>\n",
       "    </tr>\n",
       "    <tr>\n",
       "      <th>1</th>\n",
       "      <td>37040</td>\n",
       "      <td>191139</td>\n",
       "    </tr>\n",
       "    <tr>\n",
       "      <th>2</th>\n",
       "      <td>36167</td>\n",
       "      <td>28449164</td>\n",
       "    </tr>\n",
       "    <tr>\n",
       "      <th>3</th>\n",
       "      <td>9398</td>\n",
       "      <td>24693869</td>\n",
       "    </tr>\n",
       "    <tr>\n",
       "      <th>4</th>\n",
       "      <td>29848</td>\n",
       "      <td>8127</td>\n",
       "    </tr>\n",
       "  </tbody>\n",
       "</table>\n",
       "</div>"
      ],
      "text/plain": [
       "   user_id   book_id\n",
       "0    20989   1832332\n",
       "1    37040    191139\n",
       "2    36167  28449164\n",
       "3     9398  24693869\n",
       "4    29848      8127"
      ]
     },
     "execution_count": 105,
     "metadata": {},
     "output_type": "execute_result"
    }
   ],
   "source": [
    "# import the test data in pandas dataframe\n",
    "test = pd.read_csv('test.csv/test.csv', delimiter='\\t')\n",
    "test.head(5)"
   ]
  },
  {
   "cell_type": "code",
   "execution_count": 143,
   "metadata": {},
   "outputs": [],
   "source": [
    "# Append the predictions of test data in res array \n",
    "res=[]\n",
    "res.append('user_id-book_id,rating')\n",
    "for i in range(len(test)):\n",
    "    pred1 = svd_algo.predict(test['user_id'][i], test['book_id'][i])\n",
    "    res.append(str(test['user_id'][i])+'-'+str(test['book_id'][i])+','+str(int(round(pred1[3]))))"
   ]
  },
  {
   "cell_type": "code",
   "execution_count": 146,
   "metadata": {},
   "outputs": [
    {
     "data": {
      "text/plain": [
       "299607"
      ]
     },
     "execution_count": 146,
     "metadata": {},
     "output_type": "execute_result"
    }
   ],
   "source": [
    "len(res)"
   ]
  },
  {
   "cell_type": "code",
   "execution_count": 161,
   "metadata": {},
   "outputs": [],
   "source": [
    "#save the file on local machine\n",
    "np.savetxt('pred', res,fmt='%s',newline='\\n')"
   ]
  },
  {
   "cell_type": "code",
   "execution_count": null,
   "metadata": {},
   "outputs": [],
   "source": []
  },
  {
   "cell_type": "code",
   "execution_count": 162,
   "metadata": {},
   "outputs": [
    {
     "name": "stdout",
     "output_type": "stream",
     "text": [
      "Computing the msd similarity matrix...\n",
      "Done computing similarity matrix.\n"
     ]
    },
    {
     "data": {
      "text/plain": [
       "<surprise.prediction_algorithms.knns.KNNBasic at 0x20f45c9c438>"
      ]
     },
     "execution_count": 162,
     "metadata": {},
     "output_type": "execute_result"
    }
   ],
   "source": [
    "#Algorithm 2- KNNBasic\n",
    "#fit the data using knnbasic algorithm on training dataset\n",
    "knn_algo = KNNBasic()\n",
    "knn_algo.fit(trainset)"
   ]
  },
  {
   "cell_type": "code",
   "execution_count": 163,
   "metadata": {},
   "outputs": [
    {
     "name": "stdout",
     "output_type": "stream",
     "text": [
      "RMSE: 1.8077\n"
     ]
    },
    {
     "data": {
      "text/plain": [
       "1.8077244007696855"
      ]
     },
     "execution_count": 163,
     "metadata": {},
     "output_type": "execute_result"
    }
   ],
   "source": [
    "#Make predictions for validation data and calculate RMSE\n",
    "predictions = knn_algo.test(testset)\n",
    "accuracy.rmse(predictions)"
   ]
  },
  {
   "cell_type": "code",
   "execution_count": 164,
   "metadata": {},
   "outputs": [],
   "source": [
    "# Append the predictions of test data in res2 array \n",
    "res2=[]\n",
    "res2.append('user_id-book_id,rating')\n",
    "for i in range(len(test)):\n",
    "    pred2 = knn_algo.predict(test['user_id'][i], test['book_id'][i])\n",
    "    res2.append(str(test['user_id'][i])+'-'+str(test['book_id'][i])+','+str(int(round(pred2[3]))))"
   ]
  },
  {
   "cell_type": "code",
   "execution_count": 165,
   "metadata": {},
   "outputs": [
    {
     "data": {
      "text/plain": [
       "299607"
      ]
     },
     "execution_count": 165,
     "metadata": {},
     "output_type": "execute_result"
    }
   ],
   "source": [
    "len(res)"
   ]
  },
  {
   "cell_type": "code",
   "execution_count": 166,
   "metadata": {},
   "outputs": [],
   "source": [
    "np.savetxt('pred_knn1', res,fmt='%s',newline='\\n')"
   ]
  },
  {
   "cell_type": "code",
   "execution_count": null,
   "metadata": {},
   "outputs": [],
   "source": []
  },
  {
   "cell_type": "code",
   "execution_count": null,
   "metadata": {},
   "outputs": [],
   "source": []
  },
  {
   "cell_type": "code",
   "execution_count": 168,
   "metadata": {},
   "outputs": [
    {
     "name": "stdout",
     "output_type": "stream",
     "text": [
      "1.5873074578528898\n",
      "{'reg_all': 0.1, 'lr_all': 0.005, 'n_epochs': 20}\n"
     ]
    }
   ],
   "source": [
    "#Algorithm 3 - GridSearchCV\n",
    "#import from library\n",
    "from surprise.model_selection import GridSearchCV\n",
    "\n",
    "# Parameter tuning using different parameter values\n",
    "param_grid = {'n_epochs': [10,15,20], 'lr_all': [0.005, 0.001, 0.5, 0.1],\n",
    "              'reg_all': [0.1,0.4]}\n",
    "#fit the data using 3 -fold cross validation\n",
    "gs_algo = GridSearchCV(SVD, param_grid, measures=['rmse'], cv=3)\n",
    "gs_algo.fit(data)\n",
    "print(gs_algo.best_score['rmse'])\n",
    "print(gs_algo.best_params['rmse'])"
   ]
  },
  {
   "cell_type": "code",
   "execution_count": 169,
   "metadata": {},
   "outputs": [
    {
     "name": "stdout",
     "output_type": "stream",
     "text": [
      "1.5757201942337826\n",
      "{'reg_all': 0.1, 'lr_all': 0.005, 'n_epochs': 50}\n"
     ]
    }
   ],
   "source": [
    "#more variations for parameter tuning\n",
    "param_grid = {'n_epochs': [20,50,70,100], 'lr_all': [0.005],\n",
    "              'reg_all': [0.005,0.1]}\n",
    "gs1_algo = GridSearchCV(SVD, param_grid, measures=['rmse'], cv=3)\n",
    "gs1_algo.fit(data)\n",
    "print(gs1_algo.best_score['rmse'])\n",
    "print(gs1_algo.best_params['rmse'])"
   ]
  },
  {
   "cell_type": "code",
   "execution_count": 191,
   "metadata": {},
   "outputs": [],
   "source": [
    "#use refit - True to fit data using best value of parameters in grid search\n",
    "param_grid = {'n_epochs': [50], 'lr_all': [0.005],\n",
    "              'reg_all': [0.1]}\n",
    "gs2_algo = GridSearchCV(SVD, param_grid, measures=['rmse'], cv=3, refit = True)\n",
    "gs2_algo.fit(data)"
   ]
  },
  {
   "cell_type": "code",
   "execution_count": 192,
   "metadata": {},
   "outputs": [],
   "source": [
    "#get predictions for test data based on tuned parameters and save in res6\n",
    "res6=[]\n",
    "res6.append('user_id-book_id,rating')\n",
    "for i in range(len(test)):\n",
    "    pred6 = gs2_algo.predict(test['user_id'][i], test['book_id'][i])\n",
    "    res6.append(str(test['user_id'][i])+'-'+str(test['book_id'][i])+','+str(int(round(pred6[3]))))\n",
    "np.savetxt('pred_gs', res6,fmt='%s',newline='\\n')"
   ]
  },
  {
   "cell_type": "code",
   "execution_count": null,
   "metadata": {},
   "outputs": [],
   "source": []
  },
  {
   "cell_type": "code",
   "execution_count": 170,
   "metadata": {},
   "outputs": [],
   "source": [
    "# Algorithm 4 - KNNBasic\n",
    "#we are using item-based collaborative filtering with pearson similarity\n",
    "sim_ = { 'name': 'pearson', 'user_based': False}"
   ]
  },
  {
   "cell_type": "code",
   "execution_count": 172,
   "metadata": {},
   "outputs": [
    {
     "name": "stdout",
     "output_type": "stream",
     "text": [
      "Computing the pearson similarity matrix...\n",
      "Done computing similarity matrix.\n",
      "RMSE: 1.7271\n"
     ]
    },
    {
     "data": {
      "text/plain": [
       "1.727124100569324"
      ]
     },
     "execution_count": 172,
     "metadata": {},
     "output_type": "execute_result"
    }
   ],
   "source": [
    "#here we use KNN with k =3, fit the data and predict RMSE for validation data\n",
    "knn1 = KNNBasic(sim_options=sim_,k=3,min_k=1)\n",
    "knn1.fit(trainingSet)\n",
    "predictions_knn = knn1.test(testSet)\n",
    "accuracy.rmse(predictions_knn)"
   ]
  },
  {
   "cell_type": "code",
   "execution_count": 186,
   "metadata": {},
   "outputs": [],
   "source": [
    "#Make predicions for test data \n",
    "res5=[]\n",
    "res5.append('user_id-book_id,rating')\n",
    "for i in range(len(test)):\n",
    "    pred5 = knn1.predict(test['user_id'][i], test['book_id'][i])\n",
    "    res5.append(str(test['user_id'][i])+'-'+str(test['book_id'][i])+','+str(int(round(pred5[3]))))"
   ]
  },
  {
   "cell_type": "code",
   "execution_count": 187,
   "metadata": {},
   "outputs": [],
   "source": [
    "np.savetxt('pred_knn-3', res5,fmt='%s',newline='\\n')"
   ]
  },
  {
   "cell_type": "code",
   "execution_count": null,
   "metadata": {},
   "outputs": [],
   "source": []
  },
  {
   "cell_type": "code",
   "execution_count": 171,
   "metadata": {},
   "outputs": [],
   "source": [
    "#Algorithm 5 - Baseline Approach\n",
    "# For this approach I have used baseline method as als, number of epochs as 5, user regularization as 12 and item regularization as 5\n",
    "#referred from Demo provided from NIraj in class\n",
    "bsl_ = {'method': 'als','n_epochs': 5, 'reg_u': 12, 'reg_i': 5}, "
   ]
  },
  {
   "cell_type": "code",
   "execution_count": 173,
   "metadata": {},
   "outputs": [
    {
     "name": "stdout",
     "output_type": "stream",
     "text": [
      "Estimating biases using als...\n",
      "RMSE: 0.4199\n"
     ]
    },
    {
     "data": {
      "text/plain": [
       "0.4198887878728575"
      ]
     },
     "execution_count": 173,
     "metadata": {},
     "output_type": "execute_result"
    }
   ],
   "source": [
    "#fit data using baseline and predict RMSE for validation data\n",
    "baseline_algo = BaselineOnly(bsl_options=bsl_)\n",
    "baseline_algo.fit(trainingSet)\n",
    "pred_baseline = baseline_algo.test(testSet)\n",
    "accuracy.rmse(pred_baseline)"
   ]
  },
  {
   "cell_type": "code",
   "execution_count": 176,
   "metadata": {},
   "outputs": [],
   "source": [
    "#Make predicions for test data \n",
    "res3=[]\n",
    "res3.append('user_id-book_id,rating')\n",
    "for i in range(len(test)):\n",
    "    pred3 = baseline_algo.predict(test['user_id'][i], test['book_id'][i])\n",
    "    res3.append(str(test['user_id'][i])+'-'+str(test['book_id'][i])+','+str(int(round(pred3[3]))))"
   ]
  },
  {
   "cell_type": "code",
   "execution_count": 182,
   "metadata": {},
   "outputs": [],
   "source": [
    "np.savetxt('pred_baseline', res3,fmt='%s',newline='\\n')"
   ]
  },
  {
   "cell_type": "code",
   "execution_count": null,
   "metadata": {},
   "outputs": [],
   "source": []
  },
  {
   "cell_type": "code",
   "execution_count": null,
   "metadata": {},
   "outputs": [],
   "source": []
  },
  {
   "cell_type": "code",
   "execution_count": 183,
   "metadata": {},
   "outputs": [
    {
     "name": "stdout",
     "output_type": "stream",
     "text": [
      "RMSE: 0.6498\n"
     ]
    },
    {
     "data": {
      "text/plain": [
       "0.6497871776043771"
      ]
     },
     "execution_count": 183,
     "metadata": {},
     "output_type": "execute_result"
    }
   ],
   "source": [
    "#Algorithm 6 - SVDpp\n",
    "#import libraries\n",
    "from surprise import SVDpp\n",
    "#fit the data\n",
    "svdpp_algo = SVDpp(n_factors=150,n_epochs=30)\n",
    "svdpp_algo.fit(trainingSet)\n",
    "#predict RMSE for validation data\n",
    "pred_svdpp = svdpp_algo.test(testSet)\n",
    "accuracy.rmse(pred_svdpp, verbose=True)"
   ]
  },
  {
   "cell_type": "code",
   "execution_count": 184,
   "metadata": {},
   "outputs": [],
   "source": [
    "#Make predicions for test data \n",
    "res4=[]\n",
    "res4.append('user_id-book_id,rating')\n",
    "for i in range(len(test)):\n",
    "    pred4 = svdpp_algo.predict(test['user_id'][i], test['book_id'][i])\n",
    "    res4.append(str(test['user_id'][i])+'-'+str(test['book_id'][i])+','+str(int(round(pred4[3]))))"
   ]
  },
  {
   "cell_type": "code",
   "execution_count": 185,
   "metadata": {},
   "outputs": [],
   "source": [
    "np.savetxt('pred_svdpp', res4,fmt='%s',newline='\\n')"
   ]
  },
  {
   "cell_type": "code",
   "execution_count": null,
   "metadata": {},
   "outputs": [],
   "source": []
  }
 ],
 "metadata": {
  "kernelspec": {
   "display_name": "Python 3",
   "language": "python",
   "name": "python3"
  },
  "language_info": {
   "codemirror_mode": {
    "name": "ipython",
    "version": 3
   },
   "file_extension": ".py",
   "mimetype": "text/x-python",
   "name": "python",
   "nbconvert_exporter": "python",
   "pygments_lexer": "ipython3",
   "version": "3.5.0"
  }
 },
 "nbformat": 4,
 "nbformat_minor": 2
}
